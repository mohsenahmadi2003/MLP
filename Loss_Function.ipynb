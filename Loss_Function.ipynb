{
  "nbformat": 4,
  "nbformat_minor": 0,
  "metadata": {
    "colab": {
      "provenance": [],
      "gpuType": "T4",
      "authorship_tag": "ABX9TyNZBTS74NewNxkCOJZOSqxO"
    },
    "kernelspec": {
      "name": "python3",
      "display_name": "Python 3"
    },
    "language_info": {
      "name": "python"
    }
  },
  "cells": [
    {
      "cell_type": "markdown",
      "source": [
        "# **`Import`**"
      ],
      "metadata": {
        "id": "fSPY3vScPpC8"
      }
    },
    {
      "cell_type": "code",
      "source": [
        "!pip install torchmetrics"
      ],
      "metadata": {
        "colab": {
          "base_uri": "https://localhost:8080/"
        },
        "id": "zvamLWjrPyzC",
        "outputId": "08cbe1b8-adcb-4a0a-a32b-7f7965c762cf"
      },
      "execution_count": 51,
      "outputs": [
        {
          "output_type": "stream",
          "name": "stdout",
          "text": [
            "Requirement already satisfied: torchmetrics in /usr/local/lib/python3.10/dist-packages (1.0.0)\n",
            "Requirement already satisfied: numpy>1.20.0 in /usr/local/lib/python3.10/dist-packages (from torchmetrics) (1.22.4)\n",
            "Requirement already satisfied: torch>=1.8.1 in /usr/local/lib/python3.10/dist-packages (from torchmetrics) (2.0.1+cu118)\n",
            "Requirement already satisfied: packaging in /usr/local/lib/python3.10/dist-packages (from torchmetrics) (23.1)\n",
            "Requirement already satisfied: lightning-utilities>=0.7.0 in /usr/local/lib/python3.10/dist-packages (from torchmetrics) (0.9.0)\n",
            "Requirement already satisfied: typing-extensions in /usr/local/lib/python3.10/dist-packages (from lightning-utilities>=0.7.0->torchmetrics) (4.6.3)\n",
            "Requirement already satisfied: filelock in /usr/local/lib/python3.10/dist-packages (from torch>=1.8.1->torchmetrics) (3.12.2)\n",
            "Requirement already satisfied: sympy in /usr/local/lib/python3.10/dist-packages (from torch>=1.8.1->torchmetrics) (1.11.1)\n",
            "Requirement already satisfied: networkx in /usr/local/lib/python3.10/dist-packages (from torch>=1.8.1->torchmetrics) (3.1)\n",
            "Requirement already satisfied: jinja2 in /usr/local/lib/python3.10/dist-packages (from torch>=1.8.1->torchmetrics) (3.1.2)\n",
            "Requirement already satisfied: triton==2.0.0 in /usr/local/lib/python3.10/dist-packages (from torch>=1.8.1->torchmetrics) (2.0.0)\n",
            "Requirement already satisfied: cmake in /usr/local/lib/python3.10/dist-packages (from triton==2.0.0->torch>=1.8.1->torchmetrics) (3.25.2)\n",
            "Requirement already satisfied: lit in /usr/local/lib/python3.10/dist-packages (from triton==2.0.0->torch>=1.8.1->torchmetrics) (16.0.6)\n",
            "Requirement already satisfied: MarkupSafe>=2.0 in /usr/local/lib/python3.10/dist-packages (from jinja2->torch>=1.8.1->torchmetrics) (2.1.3)\n",
            "Requirement already satisfied: mpmath>=0.19 in /usr/local/lib/python3.10/dist-packages (from sympy->torch>=1.8.1->torchmetrics) (1.3.0)\n"
          ]
        }
      ]
    },
    {
      "cell_type": "code",
      "execution_count": 99,
      "metadata": {
        "id": "_YXIOp5bvu_2"
      },
      "outputs": [],
      "source": [
        "import torch\n",
        "import torch.nn as nn\n",
        "import torch.nn.functional as F\n",
        "import torch.optim as optim\n",
        "from torch.utils.data import Dataset, DataLoader, TensorDataset, random_split\n",
        "import pandas as pd\n",
        "import matplotlib.pyplot as plt\n",
        "from sklearn.model_selection import train_test_split\n",
        "from torchmetrics import Accuracy, HingeLoss"
      ]
    },
    {
      "cell_type": "markdown",
      "source": [
        "# **`Device`**"
      ],
      "metadata": {
        "id": "z4VvcDZmWpSO"
      }
    },
    {
      "cell_type": "code",
      "source": [
        "device = 'cuda' if torch.cuda.is_available() else 'cpu'"
      ],
      "metadata": {
        "id": "qW2dtwy3WrA2"
      },
      "execution_count": 100,
      "outputs": []
    },
    {
      "cell_type": "markdown",
      "source": [
        "# **`Laod Dataset`**"
      ],
      "metadata": {
        "id": "RBp3d5dQQWQt"
      }
    },
    {
      "cell_type": "code",
      "source": [
        "data_frame_train = pd.read_csv('/content/train.csv')\n",
        "date_frame_test = pd.read_csv('/content/test.csv')"
      ],
      "metadata": {
        "id": "bOSAXkLeQ3st"
      },
      "execution_count": 101,
      "outputs": []
    },
    {
      "cell_type": "markdown",
      "source": [
        "# **`Train`**"
      ],
      "metadata": {
        "id": "Tl2gF7TIStIk"
      }
    },
    {
      "cell_type": "code",
      "source": [
        "x_train = data_frame_train.drop('price_range', axis=1).values\n",
        "y_train = data_frame_train['price_range'].values"
      ],
      "metadata": {
        "id": "6PDDTr2wSqaC"
      },
      "execution_count": 102,
      "outputs": []
    },
    {
      "cell_type": "markdown",
      "source": [
        "# **`Split`**"
      ],
      "metadata": {
        "id": "pUleJczJS0UZ"
      }
    },
    {
      "cell_type": "code",
      "source": [
        "x_train, x_valid, y_train, y_valid = train_test_split(x_train, y_train, train_size=0.7, random_state=42)"
      ],
      "metadata": {
        "id": "bqdzrj4dS3Xx"
      },
      "execution_count": 103,
      "outputs": []
    },
    {
      "cell_type": "markdown",
      "source": [
        "# **`Preprocess`**"
      ],
      "metadata": {
        "id": "dN__fJNyS_4c"
      }
    },
    {
      "cell_type": "code",
      "source": [
        "x_train = torch.FloatTensor(x_train)\n",
        "y_train = torch.LongTensor(y_train)\n",
        "\n",
        "\n",
        "# for validation\n",
        "\n",
        "x_valid = torch.FloatTensor(x_valid)\n",
        "y_valid = torch.LongTensor(y_valid)\n"
      ],
      "metadata": {
        "id": "lGGiGv_rTDgv"
      },
      "execution_count": 104,
      "outputs": []
    },
    {
      "cell_type": "markdown",
      "source": [
        "# **`Standardization`**"
      ],
      "metadata": {
        "id": "UjLg0D2dX_9Q"
      }
    },
    {
      "cell_type": "code",
      "source": [
        "mu = x_train.mean(dim=0)\n",
        "std = x_train.std(dim=0)"
      ],
      "metadata": {
        "id": "YkucNJAAYA76"
      },
      "execution_count": 105,
      "outputs": []
    },
    {
      "cell_type": "code",
      "source": [
        "x_train = (x_train - mu) / std\n",
        "x_valid = (x_valid - mu) / std"
      ],
      "metadata": {
        "id": "YLOFUmpVYCUB"
      },
      "execution_count": 106,
      "outputs": []
    },
    {
      "cell_type": "markdown",
      "source": [
        "# **`Dataloader`**"
      ],
      "metadata": {
        "id": "oBIbAU40Vxc2"
      }
    },
    {
      "cell_type": "code",
      "source": [
        "train_data = TensorDataset(x_train, y_train)\n",
        "valid_data = TensorDataset(x_valid, y_valid)"
      ],
      "metadata": {
        "id": "qaug_EXoV7Oq"
      },
      "execution_count": 107,
      "outputs": []
    },
    {
      "cell_type": "code",
      "source": [
        "train_loader = DataLoader(train_data, batch_size=64, shuffle=True)\n",
        "valid_loader = DataLoader(valid_data, batch_size=64)"
      ],
      "metadata": {
        "id": "1eR165rnV-oK"
      },
      "execution_count": 108,
      "outputs": []
    },
    {
      "cell_type": "markdown",
      "source": [
        "# **`Utils`**"
      ],
      "metadata": {
        "id": "QTy4wC0yWxOf"
      }
    },
    {
      "cell_type": "code",
      "source": [
        "class AverageMeter(object):\n",
        "    \"\"\"Computes and stores the average and current value\"\"\"\n",
        "    def __init__(self):\n",
        "        self.reset()\n",
        "\n",
        "    def reset(self):\n",
        "        self.val = 0\n",
        "        self.avg = 0\n",
        "        self.sum = 0\n",
        "        self.count = 0\n",
        "\n",
        "    def update(self, val, n=1):\n",
        "        self.val = val\n",
        "        self.sum += val * n\n",
        "        self.count += n\n",
        "        self.avg = self.sum / self.count"
      ],
      "metadata": {
        "id": "KJPkm90vWyKI"
      },
      "execution_count": 109,
      "outputs": []
    },
    {
      "cell_type": "markdown",
      "source": [
        "# **`Model`**"
      ],
      "metadata": {
        "id": "8HywhxslWN99"
      }
    },
    {
      "cell_type": "code",
      "source": [
        "num_feats = 20\n",
        "num_class = 4\n",
        "hiden_layer_one = 64\n",
        "hiden_layer_two = 32\n",
        "\n",
        "model = nn.Sequential(nn.Linear(num_feats, hiden_layer_one),\n",
        "                      nn.ReLU(),\n",
        "                      nn.Linear(hiden_layer_one, hiden_layer_two),\n",
        "                      nn.ReLU(),\n",
        "                      nn.Linear(hiden_layer_two, num_class)\n",
        "                      )\n",
        "\n",
        "model = model.to(device)\n"
      ],
      "metadata": {
        "id": "6C6VVlUIWQ1g"
      },
      "execution_count": 110,
      "outputs": []
    },
    {
      "cell_type": "markdown",
      "source": [
        "# **`Loss and Optimizer`**\n"
      ],
      "metadata": {
        "id": "tMgwbQQ-Wf_-"
      }
    },
    {
      "cell_type": "code",
      "source": [
        "# loss_fn = HingeLoss(task='multiclass', num_classes=4)\n",
        "# loss_fn = nn.NLLLoss()\n",
        "optimizer = optim.SGD(model.parameters(), lr=0.01)"
      ],
      "metadata": {
        "id": "hfYfCahQWfj3"
      },
      "execution_count": 111,
      "outputs": []
    },
    {
      "cell_type": "code",
      "source": [
        "def loss_fn(outputs, targets, alpha=1., gamma=2.):\n",
        "    weights = torch.ones(outputs.shape[1]) * alpha\n",
        "    prob = F.softmax(outputs, dim=1)\n",
        "    outputs = (1 - prob)**gamma * torch.log(prob)\n",
        "    return F.nll_loss(outputs, targets, weights)\n",
        ""
      ],
      "metadata": {
        "id": "YxItHX6Yivnu"
      },
      "execution_count": 112,
      "outputs": []
    },
    {
      "cell_type": "markdown",
      "source": [
        "# **`Train loop`**"
      ],
      "metadata": {
        "id": "hhhRCjigXqp_"
      }
    },
    {
      "cell_type": "code",
      "source": [
        "from os import listxattr\n",
        "num_epochs = 400\n",
        "\n",
        "loss_train_hist = []\n",
        "loss_valid_hist = []\n",
        "\n",
        "acc_train_hist = []\n",
        "acc_valid_hist = []\n",
        "\n",
        "\n",
        "for epoch in range(num_epochs):\n",
        "    loss_train = AverageMeter()\n",
        "    acc_train = Accuracy(task='multiclass', num_classes=4).to(device)\n",
        "    for i, (inputs, targets) in enumerate(train_loader):\n",
        "        inputs = inputs.to(device)\n",
        "        targets = targets.to(device)\n",
        "        outputs = model(inputs)\n",
        "\n",
        "        loss = loss_fn(outputs, targets)\n",
        "        loss.backward()\n",
        "        optimizer.step()\n",
        "        optimizer.zero_grad()\n",
        "\n",
        "        loss_train.update(loss.item())\n",
        "        acc_train(outputs, targets)\n",
        "\n",
        "\n",
        "\n",
        "\n",
        "    with torch.no_grad():\n",
        "        loss_valid = AverageMeter()\n",
        "        acc_valid = Accuracy(task='multiclass', num_classes=4).to(device)\n",
        "\n",
        "        for i, (inputs, targets) in enumerate(valid_loader):\n",
        "            inputs = inputs.to(device)\n",
        "            targets = targets.to(device)\n",
        "            outputs = model(inputs)\n",
        "            loss = loss_fn(outputs, targets)\n",
        "            # valid_loss.append(loss)\n",
        "            loss_valid.update(loss.item())\n",
        "\n",
        "            acc_valid(outputs, targets)\n",
        "\n",
        "    loss_train_hist.append(loss_train.avg)\n",
        "    loss_valid_hist.append(loss_valid.avg)\n",
        "\n",
        "    acc_train_hist.append(acc_train.compute())\n",
        "    acc_valid_hist.append(acc_valid.compute())\n",
        "\n",
        "\n",
        "\n",
        "\n",
        "    if epoch % 10 == 0:\n",
        "\n",
        "        print(f'Epoch {epoch}')\n",
        "\n",
        "        print(f'Train: Loss = {loss_train.avg:.4}, Acc = {acc_train.compute():.4}')\n",
        "\n",
        "        print(f'Valid: Loss = {loss_valid.avg:.4}, Acc = {acc_valid.compute():.4}', \"\\n\")\n",
        "\n"
      ],
      "metadata": {
        "colab": {
          "base_uri": "https://localhost:8080/"
        },
        "id": "lBtqP85AXwW-",
        "outputId": "fad39abd-495d-40bc-ab25-df0c1e1c70e0"
      },
      "execution_count": 113,
      "outputs": [
        {
          "output_type": "stream",
          "name": "stdout",
          "text": [
            "Epoch 0\n",
            "Train: Loss = 0.7839, Acc = 0.2493\n",
            "Valid: Loss = 0.7754, Acc = 0.2783 \n",
            "\n",
            "Epoch 10\n",
            "Train: Loss = 0.7038, Acc = 0.4907\n",
            "Valid: Loss = 0.6991, Acc = 0.5133 \n",
            "\n",
            "Epoch 20\n",
            "Train: Loss = 0.5586, Acc = 0.615\n",
            "Valid: Loss = 0.5545, Acc = 0.6183 \n",
            "\n",
            "Epoch 30\n",
            "Train: Loss = 0.3856, Acc = 0.7621\n",
            "Valid: Loss = 0.3857, Acc = 0.7367 \n",
            "\n",
            "Epoch 40\n",
            "Train: Loss = 0.2638, Acc = 0.85\n",
            "Valid: Loss = 0.2685, Acc = 0.83 \n",
            "\n",
            "Epoch 50\n",
            "Train: Loss = 0.1918, Acc = 0.8921\n",
            "Valid: Loss = 0.1988, Acc = 0.8517 \n",
            "\n",
            "Epoch 60\n",
            "Train: Loss = 0.1479, Acc = 0.9064\n",
            "Valid: Loss = 0.1559, Acc = 0.8817 \n",
            "\n",
            "Epoch 70\n",
            "Train: Loss = 0.1191, Acc = 0.9236\n",
            "Valid: Loss = 0.1277, Acc = 0.8983 \n",
            "\n",
            "Epoch 80\n",
            "Train: Loss = 0.09922, Acc = 0.93\n",
            "Valid: Loss = 0.1084, Acc = 0.9067 \n",
            "\n",
            "Epoch 90\n",
            "Train: Loss = 0.08485, Acc = 0.94\n",
            "Valid: Loss = 0.09468, Acc = 0.9067 \n",
            "\n",
            "Epoch 100\n",
            "Train: Loss = 0.07404, Acc = 0.9421\n",
            "Valid: Loss = 0.0846, Acc = 0.9067 \n",
            "\n",
            "Epoch 110\n",
            "Train: Loss = 0.06573, Acc = 0.9486\n",
            "Valid: Loss = 0.07702, Acc = 0.9067 \n",
            "\n",
            "Epoch 120\n",
            "Train: Loss = 0.05922, Acc = 0.9507\n",
            "Valid: Loss = 0.07118, Acc = 0.9117 \n",
            "\n",
            "Epoch 130\n",
            "Train: Loss = 0.054, Acc = 0.9557\n",
            "Valid: Loss = 0.0666, Acc = 0.915 \n",
            "\n",
            "Epoch 140\n",
            "Train: Loss = 0.04972, Acc = 0.9586\n",
            "Valid: Loss = 0.06284, Acc = 0.92 \n",
            "\n",
            "Epoch 150\n",
            "Train: Loss = 0.04608, Acc = 0.9621\n",
            "Valid: Loss = 0.05989, Acc = 0.9233 \n",
            "\n",
            "Epoch 160\n",
            "Train: Loss = 0.04283, Acc = 0.965\n",
            "Valid: Loss = 0.05749, Acc = 0.9217 \n",
            "\n",
            "Epoch 170\n",
            "Train: Loss = 0.04021, Acc = 0.9664\n",
            "Valid: Loss = 0.05547, Acc = 0.9217 \n",
            "\n",
            "Epoch 180\n",
            "Train: Loss = 0.03789, Acc = 0.9686\n",
            "Valid: Loss = 0.0538, Acc = 0.925 \n",
            "\n",
            "Epoch 190\n",
            "Train: Loss = 0.03576, Acc = 0.9693\n",
            "Valid: Loss = 0.05244, Acc = 0.925 \n",
            "\n",
            "Epoch 200\n",
            "Train: Loss = 0.03394, Acc = 0.9729\n",
            "Valid: Loss = 0.05121, Acc = 0.925 \n",
            "\n",
            "Epoch 210\n",
            "Train: Loss = 0.03232, Acc = 0.975\n",
            "Valid: Loss = 0.0502, Acc = 0.925 \n",
            "\n",
            "Epoch 220\n",
            "Train: Loss = 0.03087, Acc = 0.9743\n",
            "Valid: Loss = 0.04933, Acc = 0.9283 \n",
            "\n",
            "Epoch 230\n",
            "Train: Loss = 0.02953, Acc = 0.9771\n",
            "Valid: Loss = 0.0486, Acc = 0.9283 \n",
            "\n",
            "Epoch 240\n",
            "Train: Loss = 0.02831, Acc = 0.9771\n",
            "Valid: Loss = 0.0479, Acc = 0.9267 \n",
            "\n",
            "Epoch 250\n",
            "Train: Loss = 0.02721, Acc = 0.9779\n",
            "Valid: Loss = 0.04738, Acc = 0.93 \n",
            "\n",
            "Epoch 260\n",
            "Train: Loss = 0.02612, Acc = 0.9786\n",
            "Valid: Loss = 0.04687, Acc = 0.93 \n",
            "\n",
            "Epoch 270\n",
            "Train: Loss = 0.02527, Acc = 0.9814\n",
            "Valid: Loss = 0.04644, Acc = 0.9333 \n",
            "\n",
            "Epoch 280\n",
            "Train: Loss = 0.02434, Acc = 0.9821\n",
            "Valid: Loss = 0.04603, Acc = 0.9317 \n",
            "\n",
            "Epoch 290\n",
            "Train: Loss = 0.02347, Acc = 0.9836\n",
            "Valid: Loss = 0.04569, Acc = 0.9317 \n",
            "\n",
            "Epoch 300\n",
            "Train: Loss = 0.02268, Acc = 0.9864\n",
            "Valid: Loss = 0.04534, Acc = 0.9283 \n",
            "\n",
            "Epoch 310\n",
            "Train: Loss = 0.02192, Acc = 0.9871\n",
            "Valid: Loss = 0.04509, Acc = 0.9283 \n",
            "\n",
            "Epoch 320\n",
            "Train: Loss = 0.02122, Acc = 0.9893\n",
            "Valid: Loss = 0.04492, Acc = 0.9317 \n",
            "\n",
            "Epoch 330\n",
            "Train: Loss = 0.02058, Acc = 0.9886\n",
            "Valid: Loss = 0.0447, Acc = 0.93 \n",
            "\n",
            "Epoch 340\n",
            "Train: Loss = 0.01991, Acc = 0.9886\n",
            "Valid: Loss = 0.04455, Acc = 0.9333 \n",
            "\n",
            "Epoch 350\n",
            "Train: Loss = 0.01933, Acc = 0.9886\n",
            "Valid: Loss = 0.04444, Acc = 0.9333 \n",
            "\n",
            "Epoch 360\n",
            "Train: Loss = 0.01878, Acc = 0.99\n",
            "Valid: Loss = 0.04418, Acc = 0.9367 \n",
            "\n",
            "Epoch 370\n",
            "Train: Loss = 0.01827, Acc = 0.99\n",
            "Valid: Loss = 0.04417, Acc = 0.9367 \n",
            "\n",
            "Epoch 380\n",
            "Train: Loss = 0.01776, Acc = 0.99\n",
            "Valid: Loss = 0.04406, Acc = 0.9367 \n",
            "\n",
            "Epoch 390\n",
            "Train: Loss = 0.01734, Acc = 0.99\n",
            "Valid: Loss = 0.04394, Acc = 0.9367 \n",
            "\n"
          ]
        }
      ]
    },
    {
      "cell_type": "markdown",
      "source": [
        "# **`Plot`**"
      ],
      "metadata": {
        "id": "Q3lhwMfhX5eP"
      }
    },
    {
      "cell_type": "markdown",
      "source": [
        "# **`Loss`**"
      ],
      "metadata": {
        "id": "MbLR8sraYIM-"
      }
    },
    {
      "cell_type": "code",
      "source": [
        "plt.plot(range(num_epochs), loss_train_hist, 'r-', label='Train')\n",
        "plt.plot(range(num_epochs), loss_valid_hist, 'b-', label='Validation')\n",
        "\n",
        "plt.xlabel('Epoch')\n",
        "plt.ylabel('Loss')\n",
        "plt.grid(True)\n",
        "plt.legend()"
      ],
      "metadata": {
        "colab": {
          "base_uri": "https://localhost:8080/",
          "height": 466
        },
        "id": "tz4Z8fW_YKOI",
        "outputId": "3d922df5-c2ae-4f12-9278-b7e7d74d3525"
      },
      "execution_count": 116,
      "outputs": [
        {
          "output_type": "execute_result",
          "data": {
            "text/plain": [
              "<matplotlib.legend.Legend at 0x7fcb6f0232e0>"
            ]
          },
          "metadata": {},
          "execution_count": 116
        },
        {
          "output_type": "display_data",
          "data": {
            "text/plain": [
              "<Figure size 640x480 with 1 Axes>"
            ],
            "image/png": "[encoded data removed]"
          },
          "metadata": {}
        }
      ]
    },
    {
      "cell_type": "markdown",
      "source": [
        "# **`Accuracy`**"
      ],
      "metadata": {
        "id": "tKXoFX-jYK-d"
      }
    },
    {
      "cell_type": "code",
      "source": [
        "plt.figure(figsize=(8, 6))\n",
        "\n",
        "plt.plot(range(num_epochs), acc_train_hist, 'r-', label='Train')\n",
        "plt.plot(range(num_epochs), acc_valid_hist, 'b-', label='Validation')\n",
        "\n",
        "plt.xlabel('Epoch')\n",
        "plt.ylabel('Acc')\n",
        "plt.grid(True)\n",
        "plt.legend()"
      ],
      "metadata": {
        "colab": {
          "base_uri": "https://localhost:8080/",
          "height": 559
        },
        "id": "aKUejtoGYO6p",
        "outputId": "d7045db8-9871-483a-d2f2-3206c66c8243"
      },
      "execution_count": 117,
      "outputs": [
        {
          "output_type": "execute_result",
          "data": {
            "text/plain": [
              "<matplotlib.legend.Legend at 0x7fcb6e892260>"
            ]
          },
          "metadata": {},
          "execution_count": 117
        },
        {
          "output_type": "display_data",
          "data": {
            "text/plain": [
              "<Figure size 800x600 with 1 Axes>"
            ],
            "image/png": "[encoded data removed]"
          },
          "metadata": {}
        }
      ]
    }
  ]
}