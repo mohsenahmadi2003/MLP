{
  "nbformat": 4,
  "nbformat_minor": 0,
  "metadata": {
    "colab": {
      "provenance": [],
      "authorship_tag": "ABX9TyNiAiEImuuiO6iHEm1kDnzW"
    },
    "kernelspec": {
      "name": "python3",
      "display_name": "Python 3"
    },
    "language_info": {
      "name": "python"
    }
  },
  "cells": [
    {
      "cell_type": "markdown",
      "source": [
        "import"
      ],
      "metadata": {
        "id": "SXWNsCMOrKRQ"
      }
    },
    {
      "cell_type": "code",
      "execution_count": 2,
      "metadata": {
        "id": "qbXQeURNJTUP"
      },
      "outputs": [],
      "source": [
        "import torch\n",
        "from torch import nn, optim\n",
        "import torch.nn.functional as F\n",
        "import matplotlib.pyplot as plt\n",
        "import pandas as pd\n",
        "from torch.utils.data import DataLoader, TensorDataset"
      ]
    },
    {
      "cell_type": "markdown",
      "source": [
        "load dataset"
      ],
      "metadata": {
        "id": "ikBbpvSdrMD_"
      }
    },
    {
      "cell_type": "code",
      "source": [
        "data_frame_train = pd.read_csv('/content/train.csv')\n",
        "date_frame_test = pd.read_csv('/content/test.csv')"
      ],
      "metadata": {
        "id": "qEguxWyOrOR8"
      },
      "execution_count": null,
      "outputs": []
    },
    {
      "cell_type": "markdown",
      "source": [
        "train"
      ],
      "metadata": {
        "id": "l6V8dqu3tDoR"
      }
    },
    {
      "cell_type": "code",
      "source": [
        "x_train = data_frame_train.drop('MedHouseVal', axis=1)\n",
        "y_train = data_frame_train['MedHouseVal']"
      ],
      "metadata": {
        "id": "i_bFBKPxtFYs"
      },
      "execution_count": null,
      "outputs": []
    },
    {
      "cell_type": "markdown",
      "source": [
        "test"
      ],
      "metadata": {
        "id": "Eb643gAityjC"
      }
    },
    {
      "cell_type": "code",
      "source": [
        "x_test = date_frame_test.drop('MedHouseVal', axis=1)\n",
        "y_test = date_frame_test['MedHouseVal']"
      ],
      "metadata": {
        "id": "nwY60x63tzTN"
      },
      "execution_count": null,
      "outputs": []
    },
    {
      "cell_type": "markdown",
      "source": [
        "# **preprocessing**"
      ],
      "metadata": {
        "id": "XD7IQF5BrQ-8"
      }
    },
    {
      "cell_type": "markdown",
      "source": [],
      "metadata": {
        "id": "GrSUHGvmwSL6"
      }
    },
    {
      "cell_type": "markdown",
      "source": [
        "# **`convert to tensor`**"
      ],
      "metadata": {
        "id": "bsqi0b0TuLba"
      }
    },
    {
      "cell_type": "markdown",
      "source": [
        "train"
      ],
      "metadata": {
        "id": "xHsIEDLbuT3b"
      }
    },
    {
      "cell_type": "code",
      "source": [
        "x_train = torch.tensor(x_train.values, dtype=torch.float32)\n",
        "y_train = torch.tensor(y_train.values, dtype=torch.float32)"
      ],
      "metadata": {
        "id": "DkuW_d2duEVY"
      },
      "execution_count": null,
      "outputs": []
    },
    {
      "cell_type": "markdown",
      "source": [
        "test"
      ],
      "metadata": {
        "id": "jOUcO4VduWOK"
      }
    },
    {
      "cell_type": "code",
      "source": [
        "x_test = torch.FloatTensor(x_test.values)\n",
        "y_test = torch.FloatTensor(y_test.values)"
      ],
      "metadata": {
        "id": "rcFU_hgnwDBu"
      },
      "execution_count": null,
      "outputs": []
    },
    {
      "cell_type": "markdown",
      "source": [
        "normalization"
      ],
      "metadata": {
        "id": "XPE3uY-Gu3PH"
      }
    },
    {
      "cell_type": "code",
      "source": [
        "mu = x_train.mean(dim=0)\n",
        "std = x_train.std(dim=0)"
      ],
      "metadata": {
        "id": "B8WFoMUv-EGE"
      },
      "execution_count": null,
      "outputs": []
    },
    {
      "cell_type": "code",
      "source": [
        "x_train = (x_train - mu) / std"
      ],
      "metadata": {
        "id": "liQIN9zQ-k5C"
      },
      "execution_count": null,
      "outputs": []
    },
    {
      "cell_type": "markdown",
      "source": [
        "Dataloader"
      ],
      "metadata": {
        "id": "eGk9WYlZBgTr"
      }
    },
    {
      "cell_type": "code",
      "source": [
        "train_dataset = TensorDataset(x_train, y_train)"
      ],
      "metadata": {
        "id": "cEx25_F8_GbT"
      },
      "execution_count": null,
      "outputs": []
    },
    {
      "cell_type": "code",
      "source": [
        "train_loader = DataLoader(train_dataset, batch_size=128, shuffle=True)"
      ],
      "metadata": {
        "id": "9Y12ofw1_foo"
      },
      "execution_count": null,
      "outputs": []
    },
    {
      "cell_type": "code",
      "source": [
        "test_dataset = TensorDataset(x_test, y_test)"
      ],
      "metadata": {
        "id": "HiJjtD6TDoJe"
      },
      "execution_count": null,
      "outputs": []
    },
    {
      "cell_type": "code",
      "source": [
        "test_loader = DataLoader(test_dataset, batch_size=256, shuffle=False)"
      ],
      "metadata": {
        "id": "8WM6Q-WjDwW1"
      },
      "execution_count": null,
      "outputs": []
    },
    {
      "cell_type": "markdown",
      "source": [
        "define model"
      ],
      "metadata": {
        "id": "7hBsfL-uILs_"
      }
    },
    {
      "cell_type": "code",
      "source": [
        "num_feats = 8\n",
        "out_feats = 1\n",
        "hiden_layer_one = 64\n",
        "hiden_layer_two = 32\n",
        "\n",
        "model = nn.Sequential(nn.Linear(num_feats, hiden_layer_one),\n",
        "              nn.ReLU(),\n",
        "              nn.Linear(hiden_layer_one, hiden_layer_two),\n",
        "              nn.ReLU(),\n",
        "              nn.Linear(hiden_layer_two, out_feats))"
      ],
      "metadata": {
        "id": "AJO4xgLcIPle"
      },
      "execution_count": null,
      "outputs": []
    },
    {
      "cell_type": "markdown",
      "source": [
        "loss and optimizer"
      ],
      "metadata": {
        "id": "J0yeyadgFiL0"
      }
    },
    {
      "cell_type": "code",
      "source": [
        "loss_function = nn.MSELoss()\n",
        "optimizer = optim.SGD(model.parameters(), lr=0.001)"
      ],
      "metadata": {
        "id": "Zrg_cca_FhqW"
      },
      "execution_count": null,
      "outputs": []
    }
  ]
}