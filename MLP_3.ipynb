{
  "nbformat": 4,
  "nbformat_minor": 0,
  "metadata": {
    "colab": {
      "provenance": [],
      "authorship_tag": "ABX9TyPIfDZ24buMXvBTVQC6i3Qa"
    },
    "kernelspec": {
      "name": "python3",
      "display_name": "Python 3"
    },
    "language_info": {
      "name": "python"
    }
  },
  "cells": [
    {
      "cell_type": "markdown",
      "source": [
        "# **import**"
      ],
      "metadata": {
        "id": "ntDdov2QBxgb"
      }
    },
    {
      "cell_type": "code",
      "execution_count": 70,
      "metadata": {
        "id": "dSW6_1dbBTOX"
      },
      "outputs": [],
      "source": [
        "import torch\n",
        "import torch.nn as nn\n",
        "import torch.optim as optim\n",
        "\n",
        "import pandas as pd\n",
        "import matplotlib.pyplot as plt\n",
        "from sklearn.model_selection import train_test_split # for split\n",
        "from torchmetrics import Accuracy\n",
        "from torch.utils.data import TensorDataset, DataLoader"
      ]
    },
    {
      "cell_type": "markdown",
      "source": [
        "# **Device**"
      ],
      "metadata": {
        "id": "jCIpp-xfy2sP"
      }
    },
    {
      "cell_type": "code",
      "source": [
        "device = 'cuda' if torch.cuda.is_available() else 'cpu'"
      ],
      "metadata": {
        "id": "l-gvhK7vy4NM"
      },
      "execution_count": null,
      "outputs": []
    },
    {
      "cell_type": "markdown",
      "source": [
        "# **load dataset**"
      ],
      "metadata": {
        "id": "1DWIBelEB18w"
      }
    },
    {
      "cell_type": "code",
      "source": [
        "data_frame_train = pd.read_csv('/content/train.csv')\n",
        "date_frame_test = pd.read_csv('/content/test.csv')"
      ],
      "metadata": {
        "id": "_oUYwq6tB4HO"
      },
      "execution_count": 71,
      "outputs": []
    },
    {
      "cell_type": "markdown",
      "source": [
        "# **train**"
      ],
      "metadata": {
        "id": "z5NfovUiDfFn"
      }
    },
    {
      "cell_type": "code",
      "source": [
        "x_train = data_frame_train.drop('price_range', axis=1)\n",
        "y_train = data_frame_train['price_range']"
      ],
      "metadata": {
        "id": "8VX2Nh15DgiD"
      },
      "execution_count": 72,
      "outputs": []
    },
    {
      "cell_type": "markdown",
      "source": [
        "split\n",
        "یک بخشی از داده های جدا می شوند برای ولیدیشن\n",
        "تا مدل  بهتر\n",
        "train\n",
        "بشه"
      ],
      "metadata": {
        "id": "BO6e_ngFD8dA"
      }
    },
    {
      "cell_type": "code",
      "source": [
        "x_train, x_valid, y_train, y_valid = train_test_split(x_train, y_train, train_size=0.7, random_state=42)"
      ],
      "metadata": {
        "id": "o4TuehmBEMSd"
      },
      "execution_count": 73,
      "outputs": []
    },
    {
      "cell_type": "code",
      "source": [
        "x_train.head()"
      ],
      "metadata": {
        "id": "stfTfrg1k_ud"
      },
      "execution_count": null,
      "outputs": []
    },
    {
      "cell_type": "markdown",
      "source": [
        "# **preprocess**"
      ],
      "metadata": {
        "id": "65uKGpmGj9eX"
      }
    },
    {
      "cell_type": "code",
      "source": [
        "x_train = torch.FloatTensor(x_train.values) # چون نام پای اَری هست باید مقداریش رو برداریم\n",
        "y_train = torch.LongTensor(y_train.values) # بخاطر اینکه در دسته بندی هستیم باید از اینتیجر استفاده کنیم\n"
      ],
      "metadata": {
        "id": "EMoUibPpkAEw"
      },
      "execution_count": 75,
      "outputs": []
    },
    {
      "cell_type": "markdown",
      "source": [
        "# **validation**"
      ],
      "metadata": {
        "id": "lpK37Vo-lvNT"
      }
    },
    {
      "cell_type": "code",
      "source": [
        "x_valid = torch.FloatTensor(x_valid.values)\n",
        "y_valid = torch.LongTensor(y_valid.values)"
      ],
      "metadata": {
        "id": "Yq2MPdMRluNq"
      },
      "execution_count": 76,
      "outputs": []
    },
    {
      "cell_type": "markdown",
      "source": [
        "# **Standardization**"
      ],
      "metadata": {
        "id": "zirWqFxMl-ub"
      }
    },
    {
      "cell_type": "code",
      "source": [
        "mu = x_train.mean(dim=0)\n",
        "std = x_train.std(dim=0)"
      ],
      "metadata": {
        "id": "pFFdubNxl75u"
      },
      "execution_count": 77,
      "outputs": []
    },
    {
      "cell_type": "code",
      "source": [
        "x_train = (x_train - mu) / std\n",
        "x_valid = (x_valid - mu) / std"
      ],
      "metadata": {
        "id": "7hj4IAp3nsIE"
      },
      "execution_count": 78,
      "outputs": []
    },
    {
      "cell_type": "markdown",
      "source": [
        "# *Dataloader*"
      ],
      "metadata": {
        "id": "x3eT80k_oCVW"
      }
    },
    {
      "cell_type": "markdown",
      "source": [
        "# **train and validtaion**"
      ],
      "metadata": {
        "id": "1YyPIYrhoWAD"
      }
    },
    {
      "cell_type": "code",
      "source": [
        "train_data = TensorDataset(x_train, y_train)\n",
        "valid_data = TensorDataset(x_valid, y_valid)"
      ],
      "metadata": {
        "id": "FYhqRJ0koEUw"
      },
      "execution_count": 79,
      "outputs": []
    },
    {
      "cell_type": "code",
      "source": [
        "train_loader = DataLoader(train_data, batch_size=100, shuffle=True)\n",
        "valid_loader = DataLoader(valid_data, batch_size=200, shuffle=True)"
      ],
      "metadata": {
        "id": "soRpEdS6p9nf"
      },
      "execution_count": 80,
      "outputs": []
    },
    {
      "cell_type": "markdown",
      "source": [
        "# **Utils**"
      ],
      "metadata": {
        "id": "pcCzF81DnQEK"
      }
    },
    {
      "cell_type": "code",
      "source": [
        "class AverageMeter(object):\n",
        "    \"\"\"Computes and stores the average and current value\"\"\"\n",
        "    def __init__(self):\n",
        "        self.reset()\n",
        "\n",
        "    def reset(self):\n",
        "        self.val = 0\n",
        "        self.avg = 0\n",
        "        self.sum = 0\n",
        "        self.count = 0\n",
        "\n",
        "    def update(self, val, n=1):\n",
        "        self.val = val\n",
        "        self.sum += val * n\n",
        "        self.count += n\n",
        "        self.avg = self.sum / self.count"
      ],
      "metadata": {
        "id": "XuKSm_o_nRCP"
      },
      "execution_count": 81,
      "outputs": []
    },
    {
      "cell_type": "code",
      "source": [
        "loss_meter = AverageMeter()"
      ],
      "metadata": {
        "id": "20CrD6xnnURd"
      },
      "execution_count": 82,
      "outputs": []
    },
    {
      "cell_type": "markdown",
      "source": [
        "# ***`Model`***"
      ],
      "metadata": {
        "id": "yj67JA3luRjs"
      }
    },
    {
      "cell_type": "code",
      "source": [
        "num_feats = 20\n",
        "num_class = 4\n",
        "hiden_layer_one = 64\n",
        "hiden_layer_two = 32\n",
        "\n",
        "model = nn.Sequential(nn.Linear(num_feats, hiden_layer_one), # fully connected layer\n",
        "                      nn.ReLU(), # activation function\n",
        "                      nn.Linear(hiden_layer_one, hiden_layer_two),\n",
        "                      nn.ReLU(),\n",
        "                      nn.Linear(hiden_layer_two, num_class) # classifier layer\n",
        "                      )"
      ],
      "metadata": {
        "id": "Q-484fmZuRNk"
      },
      "execution_count": 83,
      "outputs": []
    },
    {
      "cell_type": "code",
      "source": [
        "model = model.to(device)\n"
      ],
      "metadata": {
        "id": "-1QOiORNzGAW"
      },
      "execution_count": null,
      "outputs": []
    },
    {
      "cell_type": "markdown",
      "source": [
        "# **Loss and Optimizer**"
      ],
      "metadata": {
        "id": "pGA2lTLqxATj"
      }
    },
    {
      "cell_type": "code",
      "source": [
        "loss_fn = nn.CrossEntropyLoss()\n",
        "optimizer = optim.SGD(model.parameters(), lr=0.01)"
      ],
      "metadata": {
        "id": "W8YupZ4kxEYd"
      },
      "execution_count": 84,
      "outputs": []
    },
    {
      "cell_type": "markdown",
      "source": [
        "# **train loop**"
      ],
      "metadata": {
        "id": "CGp6YLSA8fNB"
      }
    },
    {
      "cell_type": "code",
      "source": [
        "from os import listxattr\n",
        "num_epochs = 400\n",
        "\n",
        "loss_train_hist = []\n",
        "loss_valid_hist = []\n",
        "\n",
        "acc_train_hist = []\n",
        "acc_valid_hist = []\n",
        "\n",
        "\n",
        "for epoch in range(num_epochs):\n",
        "    loss_train = AverageMeter()\n",
        "    acc_train = Accuracy(task='multiclass', num_classes=4).to(device)\n",
        "    for i, (inputs, targets) in enumerate(train_loader):\n",
        "        inputs = inputs.to(device)\n",
        "        targets = targets.to(device)\n",
        "        outputs = model(inputs)\n",
        "        loss = loss_fn(outputs, targets)\n",
        "        loss.backward()\n",
        "        optimizer.step()\n",
        "        optimizer.zero_grad()\n",
        "        # train_loss.append(loss)\n",
        "\n",
        "        loss_train.update(loss.item())\n",
        "        acc_train(outputs, targets)\n",
        "\n",
        "\n",
        "\n",
        "\n",
        "    with torch.no_grad():\n",
        "        loss_valid = AverageMeter()\n",
        "        acc_valid = Accuracy(task='multiclass', num_classes=4).to(device)\n",
        "\n",
        "        for i, (inputs, targets) in enumerate(valid_loader):\n",
        "            inputs = inputs.to(device)\n",
        "            targets = targets.to(device)\n",
        "            outputs = model(inputs)\n",
        "            loss = loss_fn(outputs, targets)\n",
        "            # valid_loss.append(loss)\n",
        "            loss_valid.update(loss.item())\n",
        "\n",
        "            acc_valid(outputs, targets)\n",
        "\n",
        "    loss_train_hist.append(loss_train.avg)\n",
        "    loss_valid_hist.append(loss_valid.avg)\n",
        "\n",
        "    acc_train_hist.append(acc_train.compute())\n",
        "    acc_valid_hist.append(acc_valid.compute())\n",
        "\n",
        "\n",
        "\n",
        "\n",
        "    if epoch % 10 == 0:\n",
        "\n",
        "        print(f'Epoch {epoch}')\n",
        "\n",
        "        print(f'Train: Loss = {loss_train.avg:.4}, Acc = {acc_train.compute():.4}')\n",
        "\n",
        "        print(f'Valid: Loss = {loss_valid.avg:.4}, Acc = {acc_valid.compute():.4}', \"\\n\")\n",
        "\n"
      ],
      "metadata": {
        "id": "FcjUBh9D8hHG"
      },
      "execution_count": null,
      "outputs": []
    },
    {
      "cell_type": "markdown",
      "source": [
        "# **plot loss**"
      ],
      "metadata": {
        "id": "27sWHOSVx2fG"
      }
    },
    {
      "cell_type": "code",
      "source": [
        "plt.plot(range(num_epochs), loss_train_hist, 'r-', label='Train')\n",
        "plt.plot(range(num_epochs), loss_valid_hist, 'b-', label='Validation')\n",
        "\n",
        "plt.xlabel('Epoch')\n",
        "plt.ylabel('Loss')\n",
        "plt.grid(True)\n",
        "plt.legend()"
      ],
      "metadata": {
        "colab": {
          "base_uri": "https://localhost:8080/",
          "height": 466
        },
        "id": "rj2tATU_x3qd",
        "outputId": "545af14e-8d32-4983-8a0d-d91b7db90e6c"
      },
      "execution_count": 87,
      "outputs": [
        {
          "output_type": "execute_result",
          "data": {
            "text/plain": [
              "<matplotlib.legend.Legend at 0x7fc8f1ae64a0>"
            ]
          },
          "metadata": {},
          "execution_count": 87
        },
        {
          "output_type": "display_data",
          "data": {
            "text/plain": [
              "<Figure size 640x480 with 1 Axes>"
            ],
            "image/png": "[encoded data removed]"
          },
          "metadata": {}
        }
      ]
    },
    {
      "cell_type": "markdown",
      "source": [
        "# **plot accuracy**"
      ],
      "metadata": {
        "id": "_98F8tT5xtpZ"
      }
    },
    {
      "cell_type": "code",
      "source": [
        "plt.plot(range(num_epochs), acc_train_hist, 'r-', label='Train')\n",
        "plt.plot(range(num_epochs), acc_valid_hist, 'b-', label='Validation')\n",
        "\n",
        "plt.xlabel('Epoch')\n",
        "plt.ylabel('Acc')\n",
        "plt.grid(True)\n",
        "plt.legend()"
      ],
      "metadata": {
        "colab": {
          "base_uri": "https://localhost:8080/",
          "height": 466
        },
        "id": "t7RUM70d8w5y",
        "outputId": "0dcfb784-cf51-447a-bb79-8eb757d694e8"
      },
      "execution_count": 86,
      "outputs": [
        {
          "output_type": "execute_result",
          "data": {
            "text/plain": [
              "<matplotlib.legend.Legend at 0x7fc8f1ae51b0>"
            ]
          },
          "metadata": {},
          "execution_count": 86
        },
        {
          "output_type": "display_data",
          "data": {
            "text/plain": [
              "<Figure size 640x480 with 1 Axes>"
            ],
            "image/png": "[encoded data removed]"
          },
          "metadata": {}
        }
      ]
    },
    {
      "cell_type": "markdown",
      "source": [
        "# **Save model**\n"
      ],
      "metadata": {
        "id": "4ceXDxJRyF7d"
      }
    },
    {
      "cell_type": "code",
      "source": [
        "torch.save(model, 'model.pth')"
      ],
      "metadata": {
        "id": "vHhG2_uCyIoA"
      },
      "execution_count": null,
      "outputs": []
    },
    {
      "cell_type": "markdown",
      "source": [
        "# **Load model**"
      ],
      "metadata": {
        "id": "qjA-OhiqyLzp"
      }
    },
    {
      "cell_type": "code",
      "source": [
        "mymodel = torch.load('model.pth')"
      ],
      "metadata": {
        "id": "B2DTieEqyOIF"
      },
      "execution_count": null,
      "outputs": []
    }
  ]
}