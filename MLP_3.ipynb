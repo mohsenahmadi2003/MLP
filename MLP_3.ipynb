{
  "nbformat": 4,
  "nbformat_minor": 0,
  "metadata": {
    "colab": {
      "provenance": [],
      "authorship_tag": "ABX9TyNdwKELOzoF3XMBscLgLz/m"
    },
    "kernelspec": {
      "name": "python3",
      "display_name": "Python 3"
    },
    "language_info": {
      "name": "python"
    }
  },
  "cells": [
    {
      "cell_type": "markdown",
      "source": [
        "import"
      ],
      "metadata": {
        "id": "ntDdov2QBxgb"
      }
    },
    {
      "cell_type": "code",
      "execution_count": 7,
      "metadata": {
        "id": "dSW6_1dbBTOX"
      },
      "outputs": [],
      "source": [
        "import torch\n",
        "import torch.nn as nn\n",
        "import torch.optim as optim\n",
        "\n",
        "import pandas as pd\n",
        "import matplotlib.pyplot as plt\n",
        "from sklearn.model_selection import train_test_split"
      ]
    },
    {
      "cell_type": "markdown",
      "source": [
        "load dataset"
      ],
      "metadata": {
        "id": "1DWIBelEB18w"
      }
    },
    {
      "cell_type": "code",
      "source": [
        "data_frame_train = pd.read_csv('/content/train.csv')\n",
        "date_frame_test = pd.read_csv('/content/test.csv')"
      ],
      "metadata": {
        "id": "_oUYwq6tB4HO"
      },
      "execution_count": 8,
      "outputs": []
    },
    {
      "cell_type": "markdown",
      "source": [
        "train"
      ],
      "metadata": {
        "id": "z5NfovUiDfFn"
      }
    },
    {
      "cell_type": "code",
      "source": [
        "x_train = data_frame_train.drop('price_range', axis=1)\n",
        "y_train = data_frame_train['price_range']"
      ],
      "metadata": {
        "id": "8VX2Nh15DgiD"
      },
      "execution_count": 9,
      "outputs": []
    },
    {
      "cell_type": "markdown",
      "source": [
        "split\n",
        "یک بخشی از داده های جدا می شوند برای ولیدیشن\n",
        "تا مدل  بهتر\n",
        "train\n",
        "بشه"
      ],
      "metadata": {
        "id": "BO6e_ngFD8dA"
      }
    },
    {
      "cell_type": "code",
      "source": [
        "x_train, x_valid, y_train, y_valid = train_test_split(x_train, y_train, train_size=0.7, random_state=42)"
      ],
      "metadata": {
        "id": "o4TuehmBEMSd"
      },
      "execution_count": 10,
      "outputs": []
    },
    {
      "cell_type": "code",
      "source": [
        "x_train.head()"
      ],
      "metadata": {
        "id": "stfTfrg1k_ud"
      },
      "execution_count": null,
      "outputs": []
    }
  ]
}