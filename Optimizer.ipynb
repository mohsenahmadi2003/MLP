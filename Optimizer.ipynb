{
  "nbformat": 4,
  "nbformat_minor": 0,
  "metadata": {
    "colab": {
      "provenance": [],
      "gpuType": "T4"
    },
    "kernelspec": {
      "name": "python3",
      "display_name": "Python 3"
    },
    "language_info": {
      "name": "python"
    }
  },
  "cells": [
    {
      "cell_type": "markdown",
      "source": [
        "# **`Import`**"
      ],
      "metadata": {
        "id": "fSPY3vScPpC8"
      }
    },
    {
      "cell_type": "code",
      "source": [
        "!pip install torchmetrics"
      ],
      "metadata": {
        "id": "zvamLWjrPyzC"
      },
      "execution_count": null,
      "outputs": []
    },
    {
      "cell_type": "code",
      "execution_count": 2,
      "metadata": {
        "id": "_YXIOp5bvu_2"
      },
      "outputs": [],
      "source": [
        "import torch\n",
        "import torch.nn as nn\n",
        "import torch.nn.functional as F\n",
        "import torch.optim as optim\n",
        "from torch.utils.data import Dataset, DataLoader, TensorDataset, random_split\n",
        "import pandas as pd\n",
        "import matplotlib.pyplot as plt\n",
        "from sklearn.model_selection import train_test_split\n",
        "from torchmetrics import Accuracy, HingeLoss"
      ]
    },
    {
      "cell_type": "markdown",
      "source": [
        "# **`Device`**"
      ],
      "metadata": {
        "id": "z4VvcDZmWpSO"
      }
    },
    {
      "cell_type": "code",
      "source": [
        "device = 'cuda' if torch.cuda.is_available() else 'cpu'"
      ],
      "metadata": {
        "id": "qW2dtwy3WrA2"
      },
      "execution_count": 3,
      "outputs": []
    },
    {
      "cell_type": "markdown",
      "source": [
        "# **`Laod Dataset`**"
      ],
      "metadata": {
        "id": "RBp3d5dQQWQt"
      }
    },
    {
      "cell_type": "code",
      "source": [
        "data_frame_train = pd.read_csv('/content/train.csv')\n",
        "date_frame_test = pd.read_csv('/content/test.csv')"
      ],
      "metadata": {
        "id": "bOSAXkLeQ3st"
      },
      "execution_count": 4,
      "outputs": []
    },
    {
      "cell_type": "markdown",
      "source": [
        "# **`Train`**"
      ],
      "metadata": {
        "id": "Tl2gF7TIStIk"
      }
    },
    {
      "cell_type": "code",
      "source": [
        "x_train = data_frame_train.drop('price_range', axis=1).values\n",
        "y_train = data_frame_train['price_range'].values"
      ],
      "metadata": {
        "id": "6PDDTr2wSqaC"
      },
      "execution_count": 5,
      "outputs": []
    },
    {
      "cell_type": "markdown",
      "source": [
        "# **`Split`**"
      ],
      "metadata": {
        "id": "pUleJczJS0UZ"
      }
    },
    {
      "cell_type": "code",
      "source": [
        "x_train, x_valid, y_train, y_valid = train_test_split(x_train, y_train, train_size=0.7, random_state=42)"
      ],
      "metadata": {
        "id": "bqdzrj4dS3Xx"
      },
      "execution_count": 6,
      "outputs": []
    },
    {
      "cell_type": "markdown",
      "source": [
        "# **`Preprocess`**"
      ],
      "metadata": {
        "id": "dN__fJNyS_4c"
      }
    },
    {
      "cell_type": "code",
      "source": [
        "x_train = torch.FloatTensor(x_train)\n",
        "y_train = torch.LongTensor(y_train)\n",
        "\n",
        "\n",
        "# for validation\n",
        "\n",
        "x_valid = torch.FloatTensor(x_valid)\n",
        "y_valid = torch.LongTensor(y_valid)\n"
      ],
      "metadata": {
        "id": "lGGiGv_rTDgv"
      },
      "execution_count": 7,
      "outputs": []
    },
    {
      "cell_type": "markdown",
      "source": [
        "# **`Standardization`**"
      ],
      "metadata": {
        "id": "UjLg0D2dX_9Q"
      }
    },
    {
      "cell_type": "code",
      "source": [
        "mu = x_train.mean(dim=0)\n",
        "std = x_train.std(dim=0)"
      ],
      "metadata": {
        "id": "YkucNJAAYA76"
      },
      "execution_count": 8,
      "outputs": []
    },
    {
      "cell_type": "code",
      "source": [
        "x_train = (x_train - mu) / std\n",
        "x_valid = (x_valid - mu) / std"
      ],
      "metadata": {
        "id": "YLOFUmpVYCUB"
      },
      "execution_count": 9,
      "outputs": []
    },
    {
      "cell_type": "markdown",
      "source": [
        "# **`Dataloader`**"
      ],
      "metadata": {
        "id": "oBIbAU40Vxc2"
      }
    },
    {
      "cell_type": "code",
      "source": [
        "train_data = TensorDataset(x_train, y_train)\n",
        "valid_data = TensorDataset(x_valid, y_valid)"
      ],
      "metadata": {
        "id": "qaug_EXoV7Oq"
      },
      "execution_count": 10,
      "outputs": []
    },
    {
      "cell_type": "code",
      "source": [
        "train_loader = DataLoader(train_data, batch_size=64, shuffle=True)\n",
        "valid_loader = DataLoader(valid_data, batch_size=64)"
      ],
      "metadata": {
        "id": "1eR165rnV-oK"
      },
      "execution_count": 11,
      "outputs": []
    },
    {
      "cell_type": "markdown",
      "source": [
        "# **`Utils`**"
      ],
      "metadata": {
        "id": "QTy4wC0yWxOf"
      }
    },
    {
      "cell_type": "code",
      "source": [
        "class AverageMeter(object):\n",
        "    \"\"\"Computes and stores the average and current value\"\"\"\n",
        "    def __init__(self):\n",
        "        self.reset()\n",
        "\n",
        "    def reset(self):\n",
        "        self.val = 0\n",
        "        self.avg = 0\n",
        "        self.sum = 0\n",
        "        self.count = 0\n",
        "\n",
        "    def update(self, val, n=1):\n",
        "        self.val = val\n",
        "        self.sum += val * n\n",
        "        self.count += n\n",
        "        self.avg = self.sum / self.count"
      ],
      "metadata": {
        "id": "KJPkm90vWyKI"
      },
      "execution_count": 18,
      "outputs": []
    },
    {
      "cell_type": "markdown",
      "source": [
        "# **`Model`**"
      ],
      "metadata": {
        "id": "8HywhxslWN99"
      }
    },
    {
      "cell_type": "code",
      "source": [
        "num_feats = 20\n",
        "num_class = 4\n",
        "hiden_layer_one = 64\n",
        "hiden_layer_two = 32\n",
        "\n",
        "model = nn.Sequential(nn.Linear(num_feats, hiden_layer_one),\n",
        "                      nn.ReLU(),\n",
        "                      nn.Linear(hiden_layer_one, hiden_layer_two),\n",
        "                      nn.ReLU(),\n",
        "                      nn.Linear(hiden_layer_two, num_class)\n",
        "                      )\n",
        "\n",
        "model = model.to(device)\n"
      ],
      "metadata": {
        "id": "6C6VVlUIWQ1g"
      },
      "execution_count": 34,
      "outputs": []
    },
    {
      "cell_type": "markdown",
      "source": [
        "# **`Loss and Optimizer`**\n"
      ],
      "metadata": {
        "id": "tMgwbQQ-Wf_-"
      }
    },
    {
      "cell_type": "code",
      "source": [
        "loss_fn = nn.CrossEntropyLoss()\n",
        "# optimizer = optim.SGD(model.parameters(), lr=0.001, momentum=0.9, nesterov=True)\n",
        "# optimizer = optim.RMSprop(model.parameters(), lr=0.001, alpha=0.99)\n",
        "optimizer = optim.Adam(model.parameters(), lr=0.001, betas=(0.9, 0.999))\n",
        "\n"
      ],
      "metadata": {
        "id": "hfYfCahQWfj3"
      },
      "execution_count": 35,
      "outputs": []
    },
    {
      "cell_type": "markdown",
      "source": [
        "# **`Train loop`**"
      ],
      "metadata": {
        "id": "hhhRCjigXqp_"
      }
    },
    {
      "cell_type": "code",
      "source": [
        "from os import listxattr\n",
        "num_epochs = 400\n",
        "\n",
        "loss_train_hist = []\n",
        "loss_valid_hist = []\n",
        "\n",
        "acc_train_hist = []\n",
        "acc_valid_hist = []\n",
        "\n",
        "\n",
        "for epoch in range(num_epochs):\n",
        "    loss_train = AverageMeter()\n",
        "    acc_train = Accuracy(task='multiclass', num_classes=4).to(device)\n",
        "    for i, (inputs, targets) in enumerate(train_loader):\n",
        "        inputs = inputs.to(device)\n",
        "        targets = targets.to(device)\n",
        "        outputs = model(inputs)\n",
        "\n",
        "        loss = loss_fn(outputs, targets)\n",
        "        loss.backward()\n",
        "        optimizer.step()\n",
        "        optimizer.zero_grad()\n",
        "\n",
        "        loss_train.update(loss.item())\n",
        "        acc_train(outputs, targets)\n",
        "\n",
        "\n",
        "\n",
        "\n",
        "    with torch.no_grad():\n",
        "        loss_valid = AverageMeter()\n",
        "        acc_valid = Accuracy(task='multiclass', num_classes=4).to(device)\n",
        "\n",
        "        for i, (inputs, targets) in enumerate(valid_loader):\n",
        "            inputs = inputs.to(device)\n",
        "            targets = targets.to(device)\n",
        "            outputs = model(inputs)\n",
        "            loss = loss_fn(outputs, targets)\n",
        "            # valid_loss.append(loss)\n",
        "            loss_valid.update(loss.item())\n",
        "\n",
        "            acc_valid(outputs, targets)\n",
        "\n",
        "    loss_train_hist.append(loss_train.avg)\n",
        "    loss_valid_hist.append(loss_valid.avg)\n",
        "\n",
        "    acc_train_hist.append(acc_train.compute())\n",
        "    acc_valid_hist.append(acc_valid.compute())\n",
        "\n",
        "\n",
        "\n",
        "\n",
        "    if epoch % 10 == 0:\n",
        "\n",
        "        print(f'Epoch {epoch}')\n",
        "\n",
        "        print(f'Train: Loss = {loss_train.avg:.4}, Acc = {acc_train.compute():.4}')\n",
        "\n",
        "        print(f'Valid: Loss = {loss_valid.avg:.4}, Acc = {acc_valid.compute():.4}', \"\\n\")\n",
        "\n"
      ],
      "metadata": {
        "id": "lBtqP85AXwW-"
      },
      "execution_count": null,
      "outputs": []
    },
    {
      "cell_type": "markdown",
      "source": [
        "# **`Plot`**"
      ],
      "metadata": {
        "id": "Q3lhwMfhX5eP"
      }
    },
    {
      "cell_type": "markdown",
      "source": [
        "# **`Loss`**"
      ],
      "metadata": {
        "id": "MbLR8sraYIM-"
      }
    },
    {
      "cell_type": "code",
      "source": [
        "plt.plot(range(num_epochs), loss_train_hist, 'r-', label='Train')\n",
        "plt.plot(range(num_epochs), loss_valid_hist, 'b-', label='Validation')\n",
        "\n",
        "plt.xlabel('Epoch')\n",
        "plt.ylabel('Loss')\n",
        "plt.grid(True)\n",
        "plt.legend()"
      ],
      "metadata": {
        "id": "tz4Z8fW_YKOI"
      },
      "execution_count": null,
      "outputs": []
    },
    {
      "cell_type": "markdown",
      "source": [
        "# **`Accuracy`**"
      ],
      "metadata": {
        "id": "tKXoFX-jYK-d"
      }
    },
    {
      "cell_type": "code",
      "source": [
        "plt.figure(figsize=(8, 6))\n",
        "\n",
        "plt.plot(range(num_epochs), acc_train_hist, 'r-', label='Train')\n",
        "plt.plot(range(num_epochs), acc_valid_hist, 'b-', label='Validation')\n",
        "\n",
        "plt.xlabel('Epoch')\n",
        "plt.ylabel('Acc')\n",
        "plt.grid(True)\n",
        "plt.legend()"
      ],
      "metadata": {
        "id": "aKUejtoGYO6p"
      },
      "execution_count": null,
      "outputs": []
    }
  ]
}