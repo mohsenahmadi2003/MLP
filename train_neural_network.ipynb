{
  "nbformat": 4,
  "nbformat_minor": 0,
  "metadata": {
    "colab": {
      "provenance": [],
      "collapsed_sections": [
        "fQFlVvECeZsD",
        "uC2GhaXfA8vC",
        "zxUus1LRNnRj",
        "oBW2SLfEEkCp"
      ]
    },
    "kernelspec": {
      "name": "python3",
      "display_name": "Python 3"
    },
    "language_info": {
      "name": "python"
    }
  },
  "cells": [
    {
      "cell_type": "markdown",
      "source": [
        "# **Imports 📢**"
      ],
      "metadata": {
        "id": "fQFlVvECeZsD"
      }
    },
    {
      "cell_type": "code",
      "source": [
        "!pip install torchmetrics"
      ],
      "metadata": {
        "colab": {
          "base_uri": "https://localhost:8080/"
        },
        "id": "dQ9OIgAs4iWa",
        "outputId": "f3171742-9392-4f26-e0e6-b53d05ace850"
      },
      "execution_count": 64,
      "outputs": [
        {
          "output_type": "stream",
          "name": "stdout",
          "text": [
            "Requirement already satisfied: torchmetrics in /usr/local/lib/python3.10/dist-packages (1.0.1)\n",
            "Requirement already satisfied: numpy>1.20.0 in /usr/local/lib/python3.10/dist-packages (from torchmetrics) (1.22.4)\n",
            "Requirement already satisfied: torch>=1.8.1 in /usr/local/lib/python3.10/dist-packages (from torchmetrics) (2.0.1+cu118)\n",
            "Requirement already satisfied: packaging in /usr/local/lib/python3.10/dist-packages (from torchmetrics) (23.1)\n",
            "Requirement already satisfied: lightning-utilities>=0.7.0 in /usr/local/lib/python3.10/dist-packages (from torchmetrics) (0.9.0)\n",
            "Requirement already satisfied: typing-extensions in /usr/local/lib/python3.10/dist-packages (from lightning-utilities>=0.7.0->torchmetrics) (4.7.1)\n",
            "Requirement already satisfied: filelock in /usr/local/lib/python3.10/dist-packages (from torch>=1.8.1->torchmetrics) (3.12.2)\n",
            "Requirement already satisfied: sympy in /usr/local/lib/python3.10/dist-packages (from torch>=1.8.1->torchmetrics) (1.11.1)\n",
            "Requirement already satisfied: networkx in /usr/local/lib/python3.10/dist-packages (from torch>=1.8.1->torchmetrics) (3.1)\n",
            "Requirement already satisfied: jinja2 in /usr/local/lib/python3.10/dist-packages (from torch>=1.8.1->torchmetrics) (3.1.2)\n",
            "Requirement already satisfied: triton==2.0.0 in /usr/local/lib/python3.10/dist-packages (from torch>=1.8.1->torchmetrics) (2.0.0)\n",
            "Requirement already satisfied: cmake in /usr/local/lib/python3.10/dist-packages (from triton==2.0.0->torch>=1.8.1->torchmetrics) (3.25.2)\n",
            "Requirement already satisfied: lit in /usr/local/lib/python3.10/dist-packages (from triton==2.0.0->torch>=1.8.1->torchmetrics) (16.0.6)\n",
            "Requirement already satisfied: MarkupSafe>=2.0 in /usr/local/lib/python3.10/dist-packages (from jinja2->torch>=1.8.1->torchmetrics) (2.1.3)\n",
            "Requirement already satisfied: mpmath>=0.19 in /usr/local/lib/python3.10/dist-packages (from sympy->torch>=1.8.1->torchmetrics) (1.3.0)\n"
          ]
        }
      ]
    },
    {
      "cell_type": "code",
      "execution_count": 65,
      "metadata": {
        "id": "Jnc2LOc9eRjD"
      },
      "outputs": [],
      "source": [
        "import torch\n",
        "import torch.nn as nn\n",
        "import torch.optim as optim\n",
        "from torch.utils.data import TensorDataset, DataLoader, random_split\n",
        "\n",
        "import pandas as pd\n",
        "import matplotlib.pyplot as plt\n",
        "from sklearn.model_selection import train_test_split\n",
        "from torchmetrics import Accuracy\n",
        "from tqdm import tqdm"
      ]
    },
    {
      "cell_type": "markdown",
      "source": [
        "# **Dataset 🗂️**"
      ],
      "metadata": {
        "id": "OsNaqujTeiGx"
      }
    },
    {
      "cell_type": "markdown",
      "source": [
        "## Read Dataset"
      ],
      "metadata": {
        "id": "3kNFvE61Q7sC"
      }
    },
    {
      "cell_type": "code",
      "source": [
        "data_frame_train = pd.read_csv('/content/train.csv')\n",
        "date_frame_test = pd.read_csv('/content/test.csv')"
      ],
      "metadata": {
        "id": "bJduGtSOezX0"
      },
      "execution_count": 66,
      "outputs": []
    },
    {
      "cell_type": "code",
      "source": [
        "x_train = data_frame_train.drop('price_range', axis=1).values\n",
        "y_train = data_frame_train['price_range'].values"
      ],
      "metadata": {
        "id": "n2rFMZTX9r72"
      },
      "execution_count": 67,
      "outputs": []
    },
    {
      "cell_type": "markdown",
      "source": [
        "## Split"
      ],
      "metadata": {
        "id": "_RlAcfkrvBDn"
      }
    },
    {
      "cell_type": "code",
      "source": [
        "x_train, x_valid, y_train, y_valid = train_test_split(x_train, y_train, train_size=0.7, random_state=42)"
      ],
      "metadata": {
        "id": "ml1npqT8yzrO"
      },
      "execution_count": 68,
      "outputs": []
    },
    {
      "cell_type": "markdown",
      "source": [
        "## Preprocess"
      ],
      "metadata": {
        "id": "5qOD027He6RR"
      }
    },
    {
      "cell_type": "code",
      "source": [
        "x_train = torch.FloatTensor(x_train)\n",
        "y_train = torch.LongTensor(y_train)\n",
        "\n",
        "x_valid = torch.FloatTensor(x_valid)\n",
        "y_valid = torch.LongTensor(y_valid)\n",
        "\n",
        "mu = x_train.mean(dim=0)\n",
        "std = x_train.std(dim=0)\n",
        "\n",
        "x_train = (x_train - mu) / std\n",
        "x_valid = (x_valid - mu) / std"
      ],
      "metadata": {
        "id": "w7hFEHNGe91D"
      },
      "execution_count": 69,
      "outputs": []
    },
    {
      "cell_type": "markdown",
      "source": [
        "## Dataloader"
      ],
      "metadata": {
        "id": "Fy195c8EfWDJ"
      }
    },
    {
      "cell_type": "code",
      "source": [
        "train_dataset = TensorDataset(x_train, y_train)\n",
        "train_loader = DataLoader(train_dataset, 20, True)\n",
        "\n",
        "valid_dataset = TensorDataset(x_valid, y_valid)\n",
        "valid_loader = DataLoader(valid_dataset, batch_size=200)"
      ],
      "metadata": {
        "id": "ZSSRbHM0fT-A"
      },
      "execution_count": 70,
      "outputs": []
    },
    {
      "cell_type": "markdown",
      "source": [
        "# **Model 🧠**"
      ],
      "metadata": {
        "id": "-NBcJXJkfgUI"
      }
    },
    {
      "cell_type": "code",
      "source": [
        "num_feats = 20\n",
        "num_class = 4\n",
        "h1 = 64\n",
        "h2 = 32\n",
        "\n",
        "model = nn.Sequential(nn.Linear(num_feats, h1),\n",
        "                      nn.ReLU(),\n",
        "                      # nn.Dropout(0.5),\n",
        "                      nn.Linear(h1, h2),\n",
        "                      nn.ReLU(),\n",
        "                      nn.Linear(h2, num_class))"
      ],
      "metadata": {
        "id": "2b9Po2RYfi8C"
      },
      "execution_count": 71,
      "outputs": []
    },
    {
      "cell_type": "code",
      "source": [
        "model[0].bias"
      ],
      "metadata": {
        "id": "GNeXEGB2Wx8m"
      },
      "execution_count": null,
      "outputs": []
    },
    {
      "cell_type": "markdown",
      "source": [
        "\n",
        "\n",
        "## *   torch.nn\n",
        "## *   Dropout\n",
        "\n"
      ],
      "metadata": {
        "id": "KPmwOnoKM3Te"
      }
    },
    {
      "cell_type": "markdown",
      "source": [
        "# **Loss & Optimizer ⚖️**"
      ],
      "metadata": {
        "id": "xFbRtOqLfnh6"
      }
    },
    {
      "cell_type": "code",
      "source": [
        "loss_fn = nn.CrossEntropyLoss()\n",
        "optimizer = optim.SGD(model.parameters(), lr=0.01,\n",
        "                      momentum=0.9, nesterov=True,\n",
        "                      weight_decay=1e-4)"
      ],
      "metadata": {
        "id": "EpzTOAOafj8e"
      },
      "execution_count": 73,
      "outputs": []
    },
    {
      "cell_type": "markdown",
      "source": [
        "# **Device ⚙️**"
      ],
      "metadata": {
        "id": "DY5JMY1Yftsr"
      }
    },
    {
      "cell_type": "code",
      "source": [
        "device = 'cuda' if torch.cuda.is_available() else 'cpu'\n",
        "model = model.to(device)"
      ],
      "metadata": {
        "id": "Ce6_MpTcfrGi"
      },
      "execution_count": 74,
      "outputs": []
    },
    {
      "cell_type": "markdown",
      "source": [
        "# **Utils 🧰**"
      ],
      "metadata": {
        "id": "mbpEEA0g1-Be"
      }
    },
    {
      "cell_type": "code",
      "source": [
        "class AverageMeter(object):\n",
        "    \"\"\"Computes and stores the average and current value\"\"\"\n",
        "    def __init__(self):\n",
        "        self.reset()\n",
        "\n",
        "    def reset(self):\n",
        "        self.val = 0\n",
        "        self.avg = 0\n",
        "        self.sum = 0\n",
        "        self.count = 0\n",
        "\n",
        "    def update(self, val, n=1):\n",
        "        self.val = val\n",
        "        self.sum += val * n\n",
        "        self.count += n\n",
        "        self.avg = self.sum / self.count"
      ],
      "metadata": {
        "id": "G6s889_UrqDT"
      },
      "execution_count": 75,
      "outputs": []
    },
    {
      "cell_type": "markdown",
      "source": [
        "# **Functions** 🧮"
      ],
      "metadata": {
        "id": "B_LljZFVAFPA"
      }
    },
    {
      "cell_type": "code",
      "source": [
        "def train_one_epoch(model, train_loader, loss_fn, optimizer, epoch=None):\n",
        "  model.train()\n",
        "  loss_train = AverageMeter()\n",
        "  acc_train = Accuracy(task='multiclass', num_classes=4).to(device)\n",
        "  with tqdm(train_loader, unit='batch') as tepoch:\n",
        "    for inputs, targets in tepoch:\n",
        "      if epoch is not None:\n",
        "        tepoch.set_description(f'Epoch {epoch}')\n",
        "      inputs = inputs.to(device)\n",
        "      targets = targets.to(device)\n",
        "\n",
        "      outputs = model(inputs)\n",
        "      loss = loss_fn(outputs, targets)\n",
        "\n",
        "      loss.backward()\n",
        "      optimizer.step()\n",
        "      optimizer.zero_grad()\n",
        "\n",
        "      loss_train.update(loss.item())\n",
        "      acc_train(outputs, targets.int())\n",
        "\n",
        "      tepoch.set_postfix(loss=loss_train.avg,\n",
        "                         accuracy=100.*acc_train.compute().item())\n",
        "  return model, loss_train.avg, acc_train.compute().item()"
      ],
      "metadata": {
        "id": "4W9MVeEqAYiq"
      },
      "execution_count": 76,
      "outputs": []
    },
    {
      "cell_type": "code",
      "source": [
        "def evaluate(model, valid_loader, loss_fn):\n",
        "  model.eval()\n",
        "  with torch.no_grad():\n",
        "    loss_valid = AverageMeter()\n",
        "    acc_valid = Accuracy(task='multiclass', num_classes=4).to(device)\n",
        "    for i, (inputs, targets) in enumerate(valid_loader):\n",
        "      inputs = inputs.to(device)\n",
        "      targets = targets.to(device)\n",
        "\n",
        "      outputs = model(inputs)\n",
        "      loss = loss_fn(outputs, targets)\n",
        "\n",
        "      loss_valid.update(loss.item())\n",
        "      acc_valid(outputs, targets.int())\n",
        "\n",
        "  return loss_valid.avg, acc_valid.compute()"
      ],
      "metadata": {
        "id": "zjrtDS3NjVDY"
      },
      "execution_count": 77,
      "outputs": []
    },
    {
      "cell_type": "markdown",
      "source": [
        "# **Train**"
      ],
      "metadata": {
        "id": "SMlnazVEN50z"
      }
    },
    {
      "cell_type": "code",
      "source": [
        "num_epochs = 100\n",
        "\n",
        "loss_train_hist = []\n",
        "loss_valid_hist = []\n",
        "\n",
        "acc_train_hist = []\n",
        "acc_valid_hist = []\n",
        "\n",
        "for epoch in range(num_epochs):\n",
        "  model, loss_train, acc_train = train_one_epoch(model,\n",
        "                                                 train_loader,\n",
        "                                                 loss_fn,\n",
        "                                                 optimizer,\n",
        "                                                 epoch)\n",
        "\n",
        "  loss_valid, acc_valid = evaluate(model,\n",
        "                                   valid_loader,\n",
        "                                   loss_fn)\n",
        "\n",
        "  loss_train_hist.append(loss_train)\n",
        "  loss_valid_hist.append(loss_valid)\n",
        "\n",
        "  acc_train_hist.append(acc_train)\n",
        "  acc_valid_hist.append(acc_valid)\n",
        "\n",
        "  print(f'Valid: Loss={loss_valid:.4}, Accuracy={acc_valid:.4}\\n')"
      ],
      "metadata": {
        "id": "3Xj6jXkuN4rd"
      },
      "execution_count": null,
      "outputs": []
    },
    {
      "cell_type": "markdown",
      "source": [
        "# **Plot**"
      ],
      "metadata": {
        "id": "bzrFLSkIgNmL"
      }
    },
    {
      "cell_type": "markdown",
      "source": [
        "### Loss"
      ],
      "metadata": {
        "id": "ARmfVUbmf8ug"
      }
    },
    {
      "cell_type": "code",
      "source": [
        "plt.plot(range(num_epochs), loss_train_hist, 'r-', label='Train')\n",
        "plt.plot(range(num_epochs), loss_valid_hist, 'b-', label='Validation')\n",
        "\n",
        "plt.xlabel('Epoch')\n",
        "plt.ylabel('Loss')\n",
        "plt.grid(True)\n",
        "plt.legend()"
      ],
      "metadata": {
        "id": "xFr4fs9Vf7-G"
      },
      "execution_count": null,
      "outputs": []
    },
    {
      "cell_type": "markdown",
      "source": [
        "### Accuracy"
      ],
      "metadata": {
        "id": "9jcu4Kzi76tD"
      }
    },
    {
      "cell_type": "code",
      "source": [
        "plt.plot(range(num_epochs), acc_train_hist, 'r-', label='Train')\n",
        "plt.plot(range(num_epochs), acc_valid_hist, 'b-', label='Validation')\n",
        "\n",
        "plt.xlabel('Epoch')\n",
        "plt.ylabel('Acc')\n",
        "plt.grid(True)\n",
        "plt.legend()"
      ],
      "metadata": {
        "id": "e_820-mcgLJa"
      },
      "execution_count": null,
      "outputs": []
    },
    {
      "cell_type": "code",
      "source": [
        "state_dict = model.state_dict()"
      ],
      "metadata": {
        "id": "xPBS6x3Jmqc0"
      },
      "execution_count": 81,
      "outputs": []
    },
    {
      "cell_type": "code",
      "source": [
        "torch.save(state_dict, 'weights.pt')"
      ],
      "metadata": {
        "id": "y0oYOe6-m7mA"
      },
      "execution_count": 82,
      "outputs": []
    },
    {
      "cell_type": "code",
      "source": [
        "wb = torch.load('weights.pt')\n",
        "model.load_state_dict(wb)"
      ],
      "metadata": {
        "id": "JwI-d2HBnMV4"
      },
      "execution_count": 83,
      "outputs": []
    },
    {
      "cell_type": "markdown",
      "source": [
        "# **Efficient way for set hyperparams 🔨**"
      ],
      "metadata": {
        "id": "9csGqnCvtFAS"
      }
    },
    {
      "cell_type": "code",
      "source": [
        "model = nn.Sequential(nn.Linear(num_feats, h1),\n",
        "                      nn.ReLU(),\n",
        "                      nn.Linear(h1, h2),\n",
        "                      nn.ReLU(),\n",
        "                      nn.Linear(h2, num_class))\n",
        "\n",
        "optimizer = optim.SGD(model.parameters(), lr=0.01, weight_decay=1e-4)"
      ],
      "metadata": {
        "id": "Y5I4Hd9vpszf"
      },
      "execution_count": 84,
      "outputs": []
    },
    {
      "cell_type": "markdown",
      "source": [
        "## Step 1: check forward path\n",
        "\n",
        "Calculate loss for one batch"
      ],
      "metadata": {
        "id": "lpJ3wtyctQJH"
      }
    },
    {
      "cell_type": "code",
      "source": [
        "x_batch, y_batch = next(iter(train_loader))\n",
        "yp = model(x_batch)\n",
        "loss_fn(yp, y_batch)"
      ],
      "metadata": {
        "colab": {
          "base_uri": "https://localhost:8080/"
        },
        "id": "IpUgLpfWtMZP",
        "outputId": "e0b59a05-f941-4af4-bb59-a49d5b6ccb87"
      },
      "execution_count": 93,
      "outputs": [
        {
          "output_type": "execute_result",
          "data": {
            "text/plain": [
              "torch.Size([20, 20])"
            ]
          },
          "metadata": {},
          "execution_count": 93
        }
      ]
    },
    {
      "cell_type": "markdown",
      "source": [
        "## Step 2: check backward path\n",
        "\n",
        "Select 5 random batches and overfit the model"
      ],
      "metadata": {
        "id": "BrHQCv7q7LF_"
      }
    },
    {
      "cell_type": "code",
      "source": [
        "mini_train_dataset, _ = random_split(train_dataset, (100, len(train_dataset)-100))\n",
        "mini_loader = DataLoader(mini_train_dataset, 20, shuffle=True)"
      ],
      "metadata": {
        "id": "Jxz5DXoj61mg"
      },
      "execution_count": 86,
      "outputs": []
    },
    {
      "cell_type": "code",
      "source": [
        "for epoch in range(500):\n",
        "    model, _, _ = train_one_epoch(model, mini_loader, loss_fn, optimizer, epoch)"
      ],
      "metadata": {
        "id": "PK-P20hI3snf"
      },
      "execution_count": 60,
      "outputs": []
    },
    {
      "cell_type": "markdown",
      "source": [
        "## Step 3: select best lr\n",
        "\n",
        "Train all data for one epoch"
      ],
      "metadata": {
        "id": "BLT4w0ZfAhlJ"
      }
    },
    {
      "cell_type": "code",
      "source": [
        "model = nn.Sequential(nn.Linear(num_feats, h1),\n",
        "                      nn.ReLU(),\n",
        "                      nn.Linear(h1, h2),\n",
        "                      nn.ReLU(),\n",
        "                      nn.Linear(h2, num_class))\n",
        "\n",
        "optimizer = optim.SGD(model.parameters(), lr=..., weight_decay=...)"
      ],
      "metadata": {
        "id": "NhsXnB5Mpnx1"
      },
      "execution_count": 61,
      "outputs": []
    },
    {
      "cell_type": "code",
      "source": [
        "for lr in [0.1, 0.01, 0.001, 0.0001]:\n",
        "  model = nn.Sequential(nn.Linear(num_feats, h1),\n",
        "                      nn.ReLU(),\n",
        "                      nn.Linear(h1, h2),\n",
        "                      nn.ReLU(),\n",
        "                      nn.Linear(h2, num_class))\n",
        "\n",
        "  optimizer = optim.SGD(model.parameters(), lr=lr, weight_decay=1e-4)\n",
        "  print(f'LR={lr}')\n",
        "  for epoch in range(5):\n",
        "    model, _, _ = train_one_epoch(model, train_loader, loss_fn, optimizer, epoch)\n",
        "  print()"
      ],
      "metadata": {
        "id": "c7tlXlY4_Dwi"
      },
      "execution_count": null,
      "outputs": []
    },
    {
      "cell_type": "markdown",
      "source": [
        "## Step 4: small grid (optional)\n",
        "\n",
        "Create a small grid based on the WD and the best LR\n",
        "\n"
      ],
      "metadata": {
        "id": "uC2GhaXfA8vC"
      }
    },
    {
      "cell_type": "code",
      "source": [
        "model = nn.Sequential(nn.Linear(num_feats, h1),\n",
        "                      nn.ReLU(),\n",
        "                      nn.Linear(h1, h2),\n",
        "                      nn.ReLU(),\n",
        "                      nn.Linear(h2, num_class))\n",
        "\n",
        "optimizer = optim.SGD(model.parameters(), lr=..., weight_decay=...)"
      ],
      "metadata": {
        "id": "XreYvs37pkqw"
      },
      "execution_count": null,
      "outputs": []
    },
    {
      "cell_type": "code",
      "source": [
        "for lr in [0.1, 0.15, 0.2, 0.25, 0.3]:\n",
        "  for wd in [0., 1e-4, 1e-5, 1e-6]:\n",
        "    model = nn.Sequential(nn.Linear(num_feats, h1),\n",
        "                      nn.ReLU(),\n",
        "                      nn.Linear(h1, h2),\n",
        "                      nn.ReLU(),\n",
        "                      nn.Linear(h2, num_class))\n",
        "\n",
        "    optimizer = optim.SGD(model.parameters(), lr=lr, weight_decay=wd)\n",
        "\n",
        "    print(f'LR={lr}, WD={wd}')\n",
        "    for epoch in range(5):\n",
        "      model, _, _ = train_one_epoch(model,\n",
        "                                    train_loader,\n",
        "                                    loss_fn,\n",
        "                                    optimizer,\n",
        "                                    epoch)\n",
        "    print()\n",
        "    # torch.save(...)"
      ],
      "metadata": {
        "id": "yIta-JKgA7-I"
      },
      "execution_count": null,
      "outputs": []
    },
    {
      "cell_type": "markdown",
      "source": [
        "### Pretty table"
      ],
      "metadata": {
        "id": "zxUus1LRNnRj"
      }
    },
    {
      "cell_type": "code",
      "source": [
        "from prettytable import PrettyTable\n",
        "\n",
        "l = [[\"Hassan\", 21, \"LUMS\"], [\"Ali\", 22, \"FAST\"], [\"Ahmed\", 23, \"UET\"]]\n",
        "table = PrettyTable(['Name', 'Age', 'University'])\n",
        "\n",
        "for rec in l:\n",
        "    table.add_row(rec)\n",
        "\n",
        "print(table)"
      ],
      "metadata": {
        "id": "suTQPBD_rrOP"
      },
      "execution_count": null,
      "outputs": []
    },
    {
      "cell_type": "markdown",
      "source": [
        "## Step 5: train more epochs"
      ],
      "metadata": {
        "id": "oBW2SLfEEkCp"
      }
    },
    {
      "cell_type": "code",
      "source": [
        "model = nn.Sequential(nn.Linear(num_feats, h1),\n",
        "                      nn.ReLU(),\n",
        "                      nn.Linear(h1, h2),\n",
        "                      nn.ReLU(),\n",
        "                      nn.Linear(h2, num_class))\n",
        "\n",
        "optimizer = optim.SGD(model.parameters(), lr=0.15, weight_decay=1e-5)"
      ],
      "metadata": {
        "id": "vwIDemRWECNm"
      },
      "execution_count": null,
      "outputs": []
    },
    {
      "cell_type": "code",
      "source": [
        "num_epochs = 20"
      ],
      "metadata": {
        "id": "l8v_vvAceS25"
      },
      "execution_count": null,
      "outputs": []
    },
    {
      "cell_type": "code",
      "source": [
        "best_valid_loss = torch.inf"
      ],
      "metadata": {
        "id": "78W26aZT5XHj"
      },
      "execution_count": null,
      "outputs": []
    },
    {
      "cell_type": "code",
      "source": [
        "for epoch in range(num_epochs):\n",
        "  # Train\n",
        "  model, loss_train, acc_train = train_one_epoch(model,\n",
        "                                                 train_loader,\n",
        "                                                 loss_fn,\n",
        "                                                 optimizer,\n",
        "                                                 epoch)\n",
        "  # Validation\n",
        "  loss_valid, acc_valid = evaluate(model,\n",
        "                                     valid_loader,\n",
        "                                     loss_fn)\n",
        "\n",
        "  if loss_valid < best_valid_loss:\n",
        "    torch.save(model, 'model.pt')\n",
        "    best_valid_loss = loss_valid\n",
        "\n",
        "  print(f'Valid: Loss = {loss_valid:.4}, Acc = {acc_valid:.4}\\n')"
      ],
      "metadata": {
        "id": "Ns2seuOjHXvi"
      },
      "execution_count": null,
      "outputs": []
    }
  ]
}